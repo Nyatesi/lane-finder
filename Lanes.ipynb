{
  "nbformat": 4,
  "nbformat_minor": 0,
  "metadata": {
    "colab": {
      "provenance": [],
      "authorship_tag": "ABX9TyObW2J3HFYXpyJzQ6TQhkS+",
      "include_colab_link": true
    },
    "kernelspec": {
      "name": "python3",
      "display_name": "Python 3"
    },
    "language_info": {
      "name": "python"
    }
  },
  "cells": [
    {
      "cell_type": "markdown",
      "metadata": {
        "id": "view-in-github",
        "colab_type": "text"
      },
      "source": [
        "<a href=\"https://colab.research.google.com/github/Nyatesi/lane-finder/blob/main/Lanes.ipynb\" target=\"_parent\"><img src=\"https://colab.research.google.com/assets/colab-badge.svg\" alt=\"Open In Colab\"/></a>"
      ]
    },
    {
      "cell_type": "code",
      "execution_count": null,
      "metadata": {
        "id": "6vQbMYU1kc97"
      },
      "outputs": [],
      "source": [
        "!git clone https://github.com/Nyatesi/lane-finder.git\n",
        "%cd lane-finder/"
      ]
    },
    {
      "cell_type": "code",
      "execution_count": null,
      "metadata": {
        "id": "twcSHvJyKY19",
        "scrolled": true
      },
      "outputs": [],
      "source": [
        "import numpy as np\n",
        "import matplotlib.image as mpimg\n",
        "import matplotlib.pyplot as plt\n",
        "\n",
        "import cv2\n",
        "import os\n",
        "import glob\n",
        "from IPython.display import HTML, Image\n",
        "from IPython.core.display import Video\n",
        "from moviepy.editor import VideoFileClip\n",
        "from CameraCalibration import CameraCalibration\n",
        "from Thresholding import *\n",
        "from PerspectiveTransformation import *\n",
        "from LaneLines import *\n",
        "\n",
        "class FindLaneLines:\n",
        "    def __init__(self):\n",
        "        \"\"\" Init Application\"\"\"\n",
        "        self.calibration = CameraCalibration('camera_cal', 9, 6)\n",
        "        self.thresholding = Thresholding()\n",
        "        self.transform = PerspectiveTransformation()\n",
        "        self.lanelines = LaneLines()\n",
        "\n",
        "    def forward(self, img):\n",
        "        out_img = np.copy(img)\n",
        "        img = self.calibration.undistort(img)\n",
        "        img = self.transform.forward(img)\n",
        "        img = self.thresholding.forward(img)\n",
        "        img = self.lanelines.forward(img)\n",
        "        img = self.transform.backward(img)\n",
        "\n",
        "        out_img = cv2.addWeighted(out_img, 1, img, 0.6, 0)\n",
        "        out_img = self.lanelines.plot(out_img)\n",
        "        return out_img\n",
        "\n",
        "\n",
        "    def process_image(self, input_dir, output_dir):\n",
        "        os.makedirs(output_dir, exist_ok=True)  # create the output directory if it doesn't exist\n",
        "        for file in glob.glob(os.path.join(input_dir, '*.jpg')):  # loop over all jpg files in input directory\n",
        "            filename = os.path.basename(file)\n",
        "            input_path = os.path.join(input_dir, filename)\n",
        "            output_path = os.path.join(output_dir, filename)\n",
        "            img = mpimg.imread(input_path)\n",
        "            out_img = self.forward(img)\n",
        "            mpimg.imsave(output_path, out_img)\n",
        "\n",
        "    \n",
        "\n",
        "    def process_video(self, input_dir, output_dir):\n",
        "        os.makedirs(output_dir, exist_ok=True)  # create the output directory if it doesn't exist\n",
        "        for file in glob.glob(os.path.join(input_dir, '*.mp4')):  # loop over all jpg files in input directory\n",
        "            filename = os.path.basename(file)\n",
        "            input_path = os.path.join(input_dir, filename)\n",
        "            output_path = os.path.join(output_dir, \"output_\" +filename)\n",
        "            clip = VideoFileClip(input_path)\n",
        "            out_clip = clip.fl_image(self.forward)\n",
        "            out_clip.write_videofile(output_path, audio=False)\n",
        "def main():\n",
        "    findLaneLines = FindLaneLines()\n",
        "    #findLaneLines.process_image(\"test_images\",\"output_images\")\n",
        "\n",
        "    findLaneLines.process_video(\"test_videos\",\"output_videos\")\n",
        "\n",
        "if __name__ == \"__main__\":\n",
        "    main()"
      ]
    },
    {
      "cell_type": "code",
      "source": [
        "# Provide the path to the folder containing the images\n",
        "folder_path = \"/content/lane-finder/output_images\"\n",
        "\n",
        "# Get a list of all image files in the folder\n",
        "image_files = os.listdir(folder_path)\n",
        "\n",
        "# Loop through the image files and display them\n",
        "for image_file in image_files:\n",
        "    # Construct the full path to the image file\n",
        "    image_path = os.path.join(folder_path, image_file)\n",
        "\n",
        "    # Read the image using mpimg\n",
        "    image = mpimg.imread(image_path)\n",
        "\n",
        "    # Display the image using plt.imshow()\n",
        "    plt.imshow(image)\n",
        "    plt.axis('off')  # Turn off the axis labels\n",
        "    plt.show()\n"
      ],
      "metadata": {
        "id": "_dCet4KCl1hl"
      },
      "execution_count": null,
      "outputs": []
    },
    {
      "cell_type": "code",
      "source": [
        "from IPython.display import HTML, display\n",
        "import os\n",
        "\n",
        "# Provide the path to the folder containing the videos\n",
        "folder_path = \"/content/lane-finder/output_videos\"\n",
        "\n",
        "# Get a list of all video files in the folder\n",
        "video_files = [f for f in os.listdir(folder_path) if f.endswith('.mp4')]\n",
        "\n",
        "# Loop through the video files and display them\n",
        "for video_file in video_files:\n",
        "    # Construct the full path to the video file\n",
        "    video_path = os.path.join(folder_path, video_file)\n",
        "\n",
        "    # Generate the HTML code to display the video\n",
        "    video_html = f'<video width=\"600\" controls><source src=\"{video_path}\" type=\"video/mp4\"></video>'\n",
        "\n",
        "    # Display the video using HTML\n",
        "    display(HTML(video_html))\n"
      ],
      "metadata": {
        "id": "7UUulpx-pZIg"
      },
      "execution_count": null,
      "outputs": []
    }
  ]
}